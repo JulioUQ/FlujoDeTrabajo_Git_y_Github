{
 "cells": [
  {
   "attachments": {},
   "cell_type": "markdown",
   "metadata": {},
   "source": [
    "# Curso de Git en Visual Studio Cde (VSC)\n",
    "\n",
    "En el presente curso se van a realizar los pasos cotidianos al trabajar utilizando Git para controlar las versiones de código y resto de elementos de un repositorio almacenado en GitHub. Las secciones que veremos son:\n",
    "\n",
    "- Clonar un repositorio: Git te pedirá tus credenciales para acceder al repositorio en GitHub.\n",
    "- Configurar un repositorio de GitHub: Inicializaremos una sesión Git desde un directorio de trabajo.\n",
    "- Trabajar en tu proyecto: Realizas cambios locales, comités, etc.\n",
    "- Empujar cambios a GitHub: Podrías necesitar ingresar credenciales nuevamente (a menos que uses el caché de credenciales).\n",
    "- Habilitar caché (opcional): Mantén tus credenciales activas por un tiempo limitado.\n",
    "- Trabajar con ramas: Crear, cambiar y fusionar ramas.\n",
    "- Eliminar todos los cambios realizados: Elimina el caché de credenciales y resto de cambios realizados durante la sesion.\n",
    "\n"
   ]
  },
  {
   "cell_type": "markdown",
   "metadata": {},
   "source": [
    "## Clonar un repositorio de GitHub \n",
    "\n",
    "Clonar el repositorio te permitirá trabajar en un proyecto existente. Para ello, primero debes ingresar tus credenciales de GitHub. "
   ]
  },
  {
   "cell_type": "code",
   "execution_count": null,
   "metadata": {},
   "outputs": [],
   "source": [
    "!git clone https://github.com/usuario/repo.git"
   ]
  },
  {
   "cell_type": "markdown",
   "metadata": {},
   "source": [
    "La primera vez que interactúes con GitHub (por ejemplo, al clonar, hacer push o pull), se te pedirá que ingreses tus credenciales:\n",
    "\n",
    "- Usuario: Tu nombre de usuario o correo electrónico de GitHub.\n",
    "- Contraseña: Aquí debes usar un token de acceso personal (PAT), ya que GitHub ya no acepta contraseñas normales. Tambien seria posible acceder con la clave ssh.\n",
    "  \n",
    "Si tus credenciales son correctas, habrás iniciado una \"sesión\" en el sentido de que puedes interactuar con el repositorio remoto en GitHub."
   ]
  },
  {
   "cell_type": "markdown",
   "metadata": {},
   "source": [
    "## Configurar Git en local\n",
    "\n",
    "Configuraremos el nombre y el correo electrónico que se asociarán a los commits, lo cual es necesario para que Git pueda identificar quién realiza los cambios en el repositorio. Esto se hace con los siguientes comandos:"
   ]
  },
  {
   "cell_type": "code",
   "execution_count": 1,
   "metadata": {},
   "outputs": [],
   "source": [
    "!git config --global user.email 'julioubedaquesada@gmail.com'\n",
    "!git config --global user.name 'JulioUQ'"
   ]
  },
  {
   "cell_type": "markdown",
   "metadata": {},
   "source": [
    "En este ejemplo, se comenzará a trabajar con un directorio local ya preparado. Por lo que será necesario inicializar el repositorio en la ruta donde estás trabajando (Nuestro proyecto) localmente usando:"
   ]
  },
  {
   "cell_type": "code",
   "execution_count": 2,
   "metadata": {},
   "outputs": [
    {
     "name": "stdout",
     "output_type": "stream",
     "text": [
      "Current working directory: /Users/macbookairjulio/Desktop/GitHub y Git\n",
      "Reinitialized existing Git repository in /Users/macbookairjulio/Desktop/GitHub y Git/.git/\n"
     ]
    }
   ],
   "source": [
    "import os\n",
    "cwd = os.getcwd()\n",
    "\n",
    "print(\"Current working directory: {0}\".format(cwd))\n",
    "\n",
    "# Inicializamos la sesión de Git desde la rama por defecto `master``\n",
    "!git init"
   ]
  },
  {
   "cell_type": "markdown",
   "metadata": {},
   "source": [
    "## Trabajar en tu proyecto\n",
    "\n",
    "Ahora estás trabajando en la ruta local del proyecto (donde clonaste o inicializaste el repositorio). Aquí, puedes hacer cambios en los archivos, agregar nuevos archivos, eliminarlos, etc."
   ]
  },
  {
   "cell_type": "markdown",
   "metadata": {},
   "source": [
    "### Ver el estado de los cambios\n",
    "\n",
    "El comando `git status` en Git muestra el estado actual del repositorio de Git. Te proporciona información útil sobre los archivos en tu directorio de trabajo, específicamente sobre:\n",
    "\n",
    "- **Cambios que están en el área de preparación (staging area)**: Archivos que has añadido con `git add` y están listos para ser confirmados (committed).\n",
    "- **Cambios que no están en el área de preparación**: Archivos que han sido modificados pero aún no han sido añadidos al área de preparación con `git add`.\n",
    "- **Archivos no rastreados (untracked files)**: Archivos que no están siendo rastreados por Git (es decir, archivos nuevos que nunca se han añadido al repositorio).\n",
    "- **Estado de la rama**: Indica si tu rama local está sincronizada con la rama remota (si está por delante o por detrás de los cambios remotos)."
   ]
  },
  {
   "cell_type": "code",
   "execution_count": 3,
   "metadata": {},
   "outputs": [
    {
     "name": "stdout",
     "output_type": "stream",
     "text": [
      "On branch master\n",
      "\n",
      "No commits yet\n",
      "\n",
      "Untracked files:\n",
      "  (use \"git add <file>...\" to include in what will be committed)\n",
      "\t\u001b[31mGit-y-Github.png\u001b[m\n",
      "\t\u001b[31mGit.ipynb\u001b[m\n",
      "\t\u001b[31mREADME.md.md\u001b[m\n",
      "\n",
      "nothing added to commit but untracked files present (use \"git add\" to track)\n"
     ]
    }
   ],
   "source": [
    "!git status"
   ]
  },
  {
   "cell_type": "markdown",
   "metadata": {},
   "source": [
    "### Agregar archivos al área de preparación (staging)\n",
    "\n",
    "El comando `git add` se utiliza para añadir cambios en los archivos al área de preparación (staging area) en Git. Esto es un paso intermedio antes de realizar un commit, y permite a Git saber qué cambios quieres incluir en el próximo commit.\n",
    "\n",
    "- **Añade cambios al área de preparación**: Los archivos que modificas en tu repositorio local no forman parte del historial hasta que los añades al área de preparación. Usar `git add` es como decirle a Git, *\"quiero que estos cambios sean parte de mi próximo commit.\"*\n",
    "- **Permite seleccionar cambios específicos**: Puedes añadir archivos individuales o partes específicas de un archivo. Esto te da control sobre qué cambios se incluirán en cada commit."
   ]
  },
  {
   "cell_type": "markdown",
   "metadata": {},
   "source": [
    "1. **Añadir un archivo específico**: Si has modificado un archivo llamado archivo.txt y quieres añadirlo al área de preparación, usa:"
   ]
  },
  {
   "cell_type": "code",
   "execution_count": 4,
   "metadata": {},
   "outputs": [],
   "source": [
    "!git add README.md.md"
   ]
  },
  {
   "cell_type": "markdown",
   "metadata": {},
   "source": [
    "2.  **Añadir todos los archivos modificados**: Para añadir todos los archivos modificados (y los nuevos archivos no rastreados), usa:"
   ]
  },
  {
   "cell_type": "code",
   "execution_count": 5,
   "metadata": {},
   "outputs": [],
   "source": [
    "!git add ."
   ]
  },
  {
   "cell_type": "markdown",
   "metadata": {},
   "source": [
    "> Si revisasemos el estado del proyecto se veria que todos los archivos han sido enviados al area de preparación, listos para confirmarlos."
   ]
  },
  {
   "cell_type": "code",
   "execution_count": 7,
   "metadata": {},
   "outputs": [
    {
     "name": "stdout",
     "output_type": "stream",
     "text": [
      "On branch master\n",
      "\n",
      "No commits yet\n",
      "\n",
      "Changes to be committed:\n",
      "  (use \"git rm --cached <file>...\" to unstage)\n",
      "\t\u001b[32mnew file:   Git-y-Github.png\u001b[m\n",
      "\t\u001b[32mnew file:   Git.ipynb\u001b[m\n",
      "\t\u001b[32mnew file:   README.md.md\u001b[m\n",
      "\n"
     ]
    }
   ],
   "source": [
    "!git status"
   ]
  },
  {
   "cell_type": "markdown",
   "metadata": {},
   "source": [
    "### Sacar archivos del área de preparación \n",
    "\n",
    "Para sacar un archivo del área de preparación (staging area) en Git, puedes usar el comando `git restore` o `git reset` dependiendo de la versión de Git que estés utilizando y tus necesidades específicas."
   ]
  },
  {
   "cell_type": "code",
   "execution_count": 11,
   "metadata": {},
   "outputs": [],
   "source": [
    "!git reset README.md.md"
   ]
  },
  {
   "cell_type": "code",
   "execution_count": 12,
   "metadata": {},
   "outputs": [
    {
     "name": "stdout",
     "output_type": "stream",
     "text": [
      "On branch master\n",
      "\n",
      "No commits yet\n",
      "\n",
      "Changes to be committed:\n",
      "  (use \"git rm --cached <file>...\" to unstage)\n",
      "\t\u001b[32mnew file:   Git-y-Github.png\u001b[m\n",
      "\t\u001b[32mnew file:   Git.ipynb\u001b[m\n",
      "\n",
      "Untracked files:\n",
      "  (use \"git add <file>...\" to include in what will be committed)\n",
      "\t\u001b[31mREADME.md.md\u001b[m\n",
      "\n"
     ]
    }
   ],
   "source": [
    "!git status"
   ]
  },
  {
   "cell_type": "markdown",
   "metadata": {},
   "source": [
    "De esta forma, se puede trabajar con los archivos entre el area de preparación y nuestro proyecto local."
   ]
  },
  {
   "cell_type": "markdown",
   "metadata": {},
   "source": [
    "### Realizar un commit\n",
    "\n",
    "El comando `git commit` se utiliza para **guardar los cambios** que han sido añadidos al área de preparación en el historial del repositorio. Es un paso clave que permite registrar un snapshot del estado actual del proyecto.\n",
    "\n",
    "- **Guarda cambios en el historial**: Al ejecutar `git commit`, los cambios preparados se integran al historial del repositorio, creando un punto de referencia al que puedes volver en el futuro.\n",
    "- **Incluye un mensaje descriptivo**: Cada commit lleva un mensaje que describe los cambios realizados, facilitando el rastreo y la comprensión de la evolución del proyecto.\n",
    "- **Mantiene un historial de versiones**: Permite llevar un control detallado de qué se cambió y cuándo, lo que es útil para deshacer errores o recuperar versiones anteriores."
   ]
  },
  {
   "cell_type": "code",
   "execution_count": 13,
   "metadata": {},
   "outputs": [
    {
     "name": "stdout",
     "output_type": "stream",
     "text": [
      "[master (root-commit) 1c84c3a] Tutorial Inicial\n",
      " 2 files changed, 2153 insertions(+)\n",
      " create mode 100644 Git-y-Github.png\n",
      " create mode 100644 Git.ipynb\n"
     ]
    }
   ],
   "source": [
    "!git commit -m \"Tutorial Inicial\""
   ]
  },
  {
   "cell_type": "markdown",
   "metadata": {},
   "source": [
    "El mensaje indica que se ha realizado correctamente un **commit inicial** en la rama `master` de tu repositorio Git. A continuación te explico cada parte:\n",
    "\n",
    "- **[master (root-commit) 1c84c3a]**: \n",
    "  - `master`: Es la rama en la que se ha hecho el commit.\n",
    "  - `(root-commit)`: Significa que este es el primer commit en el repositorio (el commit raíz).\n",
    "  - `1c84c3a`: Es el identificador (hash) único del commit que Git genera automáticamente para rastrear este punto en el historial.\n",
    "  \n",
    "En resumen, se han añadido dos archivos nuevos al repositorio y estos fueron incluidos en el historial del proyecto con el commit que acabas de realizar."
   ]
  },
  {
   "cell_type": "markdown",
   "metadata": {},
   "source": [
    "### Ver archivos commiteados\n",
    "\n",
    "El comando `git log` se utiliza para **ver el historial de commits** en un repositorio Git. Muestra una lista detallada de todos los commits realizados, facilitando el seguimiento de los cambios y la evolución del proyecto.\n",
    "\n",
    "- **Muestra el historial de commits**: `git log` lista los commits en orden cronológico, mostrando detalles como el hash del commit, el autor, la fecha y el mensaje del commit.\n",
    "- **Permite rastrear cambios**: Al visualizar el historial, puedes rastrear fácilmente qué cambios se hicieron, quién los hizo y en qué momento.\n"
   ]
  },
  {
   "cell_type": "code",
   "execution_count": 14,
   "metadata": {},
   "outputs": [
    {
     "name": "stdout",
     "output_type": "stream",
     "text": [
      "\u001b[33mcommit 1c84c3ad9734a7d5c9277e4dde9854bb866a60eb\u001b[m\u001b[33m (\u001b[m\u001b[1;36mHEAD -> \u001b[m\u001b[1;32mmaster\u001b[m\u001b[33m)\u001b[m\n",
      "Author: JulioUQ <julioubedaquesada@gmail.com>\n",
      "Date:   Mon Sep 16 18:19:22 2024 +0200\n",
      "\n",
      "    Tutorial Inicial\n"
     ]
    }
   ],
   "source": [
    "!git log"
   ]
  },
  {
   "cell_type": "markdown",
   "metadata": {},
   "source": [
    "Por otro lado, para **listar los archivos** que están siendo rastreados por Git en tu repositorio se puede utilizar el comando `git ls-files`. Te permite verificar qué archivos están siendo controlados por Git y cuáles no. Ademas, puedes aplicar varias opciones para mostrar solo archivos modificados, ignorados, o sin rastrear.\n"
   ]
  },
  {
   "cell_type": "code",
   "execution_count": 15,
   "metadata": {},
   "outputs": [
    {
     "name": "stdout",
     "output_type": "stream",
     "text": [
      "Git-y-Github.png\n",
      "Git.ipynb\n"
     ]
    }
   ],
   "source": [
    "!git ls-files"
   ]
  },
  {
   "cell_type": "markdown",
   "metadata": {},
   "source": []
  },
  {
   "cell_type": "markdown",
   "metadata": {},
   "source": [
    "## Empujar cambios a GitHub\n",
    "\n",
    "El comando `git push` se utiliza para **enviar los commits locales** a un repositorio remoto en Git, como GitHub o GitLab. Permite actualizar el repositorio remoto con los cambios que has realizado en tu repositorio local. Sus usos principales son:\n",
    "\n",
    "- **Sube los commits al repositorio remoto**: `git push` transfiere los commits que tienes localmente al servidor remoto, lo que permite compartir el trabajo con otros colaboradores o mantener el código en la nube.\n",
    "- **Actualiza la rama remota**: El comando asegura que los cambios que hiciste en una rama local (como `master` o `main`) se sincronicen con la misma rama en el repositorio remoto.\n",
    "- **Es útil para colaboración**: Es una parte clave del flujo de trabajo colaborativo, ya que permite que otros colaboradores accedan a tus últimos cambios.\n"
   ]
  },
  {
   "cell_type": "code",
   "execution_count": null,
   "metadata": {},
   "outputs": [],
   "source": [
    "!git push origin main"
   ]
  },
  {
   "cell_type": "markdown",
   "metadata": {},
   "source": [
    "- **`origin`**: Es el nombre del repositorio remoto.\n",
    "- **`master`**: Es la rama que estás enviando al repositorio remoto.\n",
    "\n",
    "Este comando sube tus commits a la rama `master` del repositorio remoto llamado `origin`."
   ]
  },
  {
   "cell_type": "markdown",
   "metadata": {},
   "source": [
    "## Eliminar todos los cambios realizados\n",
    "Si quieres eliminar todo el historial Git y desvincular el proyecto de Git por completo, puedes eliminar la carpeta .git del proyecto:"
   ]
  },
  {
   "cell_type": "code",
   "execution_count": 16,
   "metadata": {},
   "outputs": [],
   "source": [
    "!rm -rf .git"
   ]
  },
  {
   "cell_type": "markdown",
   "metadata": {},
   "source": [
    "Esto eliminará todo el historial y las configuraciones de Git, dejando solo los archivos de trabajo en tu directorio. Después de hacer esto, tu proyecto estará como si nunca hubiera sido inicializado con Git.\n",
    "\n"
   ]
  }
 ],
 "metadata": {
  "kernelspec": {
   "display_name": "Python 3",
   "language": "python",
   "name": "python3"
  },
  "language_info": {
   "codemirror_mode": {
    "name": "ipython",
    "version": 3
   },
   "file_extension": ".py",
   "mimetype": "text/x-python",
   "name": "python",
   "nbconvert_exporter": "python",
   "pygments_lexer": "ipython3",
   "version": "3.11.2"
  },
  "orig_nbformat": 4,
  "vscode": {
   "interpreter": {
    "hash": "5238573367df39f7286bb46f9ff5f08f63a01a80960060ce41e3c79b190280fa"
   }
  }
 },
 "nbformat": 4,
 "nbformat_minor": 2
}
